{
 "cells": [
  {
   "cell_type": "code",
   "execution_count": null,
   "id": "c3fc9202-bf4f-4f44-9856-a75483d7d989",
   "metadata": {},
   "outputs": [],
   "source": [
    "# Setup for Jupyter plotting + paths\n",
    "%matplotlib inline\n",
    "\n",
    "import os\n",
    "os.makedirs(\"../docs/figs\", exist_ok=True)  # so saves don't fail\n"
   ]
  },
  {
   "cell_type": "code",
   "execution_count": 4,
   "id": "ab0c8830-457a-4c67-a8dc-c8ce80cf30d2",
   "metadata": {},
   "outputs": [
    {
     "name": "stdout",
     "output_type": "stream",
     "text": [
      "ROOT: C:\\Users\\14024\\Documents\\bio-projects\\motif-entropy-nfkb\n",
      "DATA: C:\\Users\\14024\\Documents\\bio-projects\\motif-entropy-nfkb\\data\n"
     ]
    }
   ],
   "source": [
    "from pathlib import Path\n",
    "import math\n",
    "from collections import Counter\n",
    "import pandas as pd\n",
    "import numpy as np\n",
    "import matplotlib.pyplot as plt\n",
    "\n",
    "# Project paths\n",
    "ROOT = Path.cwd().parents[0]   # notebooks → repo root\n",
    "DATA = ROOT / \"data\"\n",
    "SRC = ROOT / \"src\"\n",
    "\n",
    "print(\"ROOT:\", ROOT)\n",
    "print(\"DATA:\", DATA)\n"
   ]
  },
  {
   "cell_type": "code",
   "execution_count": 5,
   "id": "7caebfc8-31b0-4ec5-a620-9120f558532f",
   "metadata": {},
   "outputs": [
    {
     "name": "stdout",
     "output_type": "stream",
     "text": [
      "Loaded 12 sequences\n"
     ]
    },
    {
     "data": {
      "text/plain": [
       "['GGGAACTTCC', 'GGGGATTTCC', 'GGGAACCTCC']"
      ]
     },
     "execution_count": 5,
     "metadata": {},
     "output_type": "execute_result"
    }
   ],
   "source": [
    "def read_fasta(filepath):\n",
    "    sequences = []\n",
    "    with open(filepath) as f:\n",
    "        seq = \"\"\n",
    "        for line in f:\n",
    "            line = line.strip()\n",
    "            if not line:\n",
    "                continue\n",
    "            if line.startswith(\">\"):\n",
    "                if seq:\n",
    "                    sequences.append(seq)\n",
    "                    seq = \"\"\n",
    "            else:\n",
    "                seq += line\n",
    "        if seq:\n",
    "            sequences.append(seq)\n",
    "    return sequences\n",
    "\n",
    "fasta_path = DATA / \"nfkb_example.fasta\"\n",
    "seqs = read_fasta(fasta_path)\n",
    "print(f\"Loaded {len(seqs)} sequences\")\n",
    "seqs[:3]  # preview first 3 sequences\n"
   ]
  },
  {
   "cell_type": "code",
   "execution_count": null,
   "id": "9e9cfcbd-a13b-42ff-8399-4d9bf008c853",
   "metadata": {},
   "outputs": [],
   "source": [
    "import pandas as pd\n",
    "from collections import Counter\n",
    "import math\n",
    "\n",
    "L = len(seqs[0])\n",
    "alphabet = [\"A\",\"C\",\"G\",\"T\"]\n",
    "\n",
    "def column_entropy(col):\n",
    "    counts = Counter(col)\n",
    "    total = len(col)\n",
    "    ent = 0.0\n",
    "    for c in counts.values():\n",
    "        p = c/total\n",
    "        ent -= p*math.log2(p)\n",
    "    return ent\n",
    "\n",
    "rows = []\n",
    "for i in range(L):\n",
    "    col = [s[i] for s in seqs]\n",
    "    counts = Counter(col)\n",
    "    freqs = {b: counts.get(b,0)/len(seqs) for b in alphabet}\n",
    "    rows.append({\"position\": i+1, \"H\": column_entropy(col), **freqs})\n",
    "\n",
    "df = pd.DataFrame(rows)\n",
    "df\n"
   ]
  },
  {
   "cell_type": "code",
   "execution_count": null,
   "id": "3d14047c-43c6-4547-adfe-28f62b367c2e",
   "metadata": {},
   "outputs": [],
   "source": [
    "import matplotlib.pyplot as plt\n",
    "\n",
    "plt.figure(figsize=(6,3))\n",
    "plt.bar(df[\"position\"], df[\"H\"])\n",
    "plt.xlabel(\"Position\")\n",
    "plt.ylabel(\"Entropy (bits)\")\n",
    "plt.title(\"NF-κB motif per-column entropy\")\n",
    "plt.show()\n"
   ]
  },
  {
   "cell_type": "code",
   "execution_count": 1,
   "id": "7aae6b15-88d0-43cd-b053-8ca58561fd46",
   "metadata": {},
   "outputs": [
    {
     "name": "stdout",
     "output_type": "stream",
     "text": [
      "hello\n"
     ]
    }
   ],
   "source": [
    "print(\"hello\")"
   ]
  },
  {
   "cell_type": "code",
   "execution_count": 2,
   "id": "9a23d55f-afe1-482c-8122-89c97424b3c3",
   "metadata": {},
   "outputs": [
    {
     "ename": "NameError",
     "evalue": "name 'seqs' is not defined",
     "output_type": "error",
     "traceback": [
      "\u001b[31m---------------------------------------------------------------------------\u001b[39m",
      "\u001b[31mNameError\u001b[39m                                 Traceback (most recent call last)",
      "\u001b[36mCell\u001b[39m\u001b[36m \u001b[39m\u001b[32mIn[2]\u001b[39m\u001b[32m, line 1\u001b[39m\n\u001b[32m----> \u001b[39m\u001b[32m1\u001b[39m lengths = [\u001b[38;5;28mlen\u001b[39m(s) \u001b[38;5;28;01mfor\u001b[39;00m s \u001b[38;5;129;01min\u001b[39;00m \u001b[43mseqs\u001b[49m]\n\u001b[32m      2\u001b[39m \u001b[38;5;28mprint\u001b[39m(\u001b[33m\"\u001b[39m\u001b[33mSequence lengths:\u001b[39m\u001b[33m\"\u001b[39m, lengths)\n\u001b[32m      3\u001b[39m \u001b[38;5;28mprint\u001b[39m(\u001b[33m\"\u001b[39m\u001b[33mAll equal length?\u001b[39m\u001b[33m\"\u001b[39m, \u001b[38;5;28mlen\u001b[39m(\u001b[38;5;28mset\u001b[39m(lengths)) == \u001b[32m1\u001b[39m)\n",
      "\u001b[31mNameError\u001b[39m: name 'seqs' is not defined"
     ]
    }
   ],
   "source": [
    "lengths = [len(s) for s in seqs]\n",
    "print(\"Sequence lengths:\", lengths)\n",
    "print(\"All equal length?\", len(set(lengths)) == 1)"
   ]
  },
  {
   "cell_type": "code",
   "execution_count": 6,
   "id": "838867c8-f04e-4281-9dd5-42db3a828a2d",
   "metadata": {},
   "outputs": [
    {
     "name": "stdout",
     "output_type": "stream",
     "text": [
      "Non-ACGT sequences found: 0\n",
      "Any lowercase sequences? False\n"
     ]
    }
   ],
   "source": [
    "valid = set(\"ACGT\")\n",
    "bad_positions = []\n",
    "bad_seqs = []\n",
    "for i, s in enumerate(seqs, start=1):\n",
    "    if any(ch not in valid for ch in s):\n",
    "        bad_seqs.append((i, s))\n",
    "    if s != s.upper():\n",
    "        bad_positions.append(i)\n",
    "\n",
    "print(\"Non-ACGT sequences found:\", len(bad_seqs))\n",
    "print(\"Any lowercase sequences?\", len(bad_positions) > 0)\n"
   ]
  },
  {
   "cell_type": "code",
   "execution_count": 7,
   "id": "81788d1e-4a29-416b-a3d4-e7c4c2a2a75b",
   "metadata": {},
   "outputs": [
    {
     "name": "stdout",
     "output_type": "stream",
     "text": [
      "Total motif entropy: 3.654226493126826\n"
     ]
    }
   ],
   "source": [
    "from collections import Counter\n",
    "import math\n",
    "\n",
    "def column_entropy(column):\n",
    "    counts = Counter(column)\n",
    "    total = len(column)\n",
    "    ent = 0.0\n",
    "    for c in counts.values():\n",
    "        p = c / total\n",
    "        ent -= p * math.log2(p)\n",
    "    return ent\n",
    "\n",
    "def motif_entropy(sequences):\n",
    "    if not sequences:\n",
    "        return 0.0\n",
    "    L = len(sequences[0])\n",
    "    return sum(column_entropy([s[i] for s in sequences]) for i in range(L))\n",
    "\n",
    "total_H = motif_entropy(seqs)\n",
    "print(\"Total motif entropy:\", total_H)\n"
   ]
  },
  {
   "cell_type": "code",
   "execution_count": 8,
   "id": "9dba67fe-122a-4846-8144-0bb00f4d36d5",
   "metadata": {},
   "outputs": [
    {
     "data": {
      "text/html": [
       "<div>\n",
       "<style scoped>\n",
       "    .dataframe tbody tr th:only-of-type {\n",
       "        vertical-align: middle;\n",
       "    }\n",
       "\n",
       "    .dataframe tbody tr th {\n",
       "        vertical-align: top;\n",
       "    }\n",
       "\n",
       "    .dataframe thead th {\n",
       "        text-align: right;\n",
       "    }\n",
       "</style>\n",
       "<table border=\"1\" class=\"dataframe\">\n",
       "  <thead>\n",
       "    <tr style=\"text-align: right;\">\n",
       "      <th></th>\n",
       "      <th>position</th>\n",
       "      <th>H</th>\n",
       "      <th>A</th>\n",
       "      <th>C</th>\n",
       "      <th>G</th>\n",
       "      <th>T</th>\n",
       "    </tr>\n",
       "  </thead>\n",
       "  <tbody>\n",
       "    <tr>\n",
       "      <th>0</th>\n",
       "      <td>1</td>\n",
       "      <td>0.000000</td>\n",
       "      <td>0.000000</td>\n",
       "      <td>0.000000</td>\n",
       "      <td>1.000000</td>\n",
       "      <td>0.000000</td>\n",
       "    </tr>\n",
       "    <tr>\n",
       "      <th>1</th>\n",
       "      <td>2</td>\n",
       "      <td>0.000000</td>\n",
       "      <td>0.000000</td>\n",
       "      <td>0.000000</td>\n",
       "      <td>1.000000</td>\n",
       "      <td>0.000000</td>\n",
       "    </tr>\n",
       "    <tr>\n",
       "      <th>2</th>\n",
       "      <td>3</td>\n",
       "      <td>0.000000</td>\n",
       "      <td>0.000000</td>\n",
       "      <td>0.000000</td>\n",
       "      <td>1.000000</td>\n",
       "      <td>0.000000</td>\n",
       "    </tr>\n",
       "    <tr>\n",
       "      <th>3</th>\n",
       "      <td>4</td>\n",
       "      <td>0.979869</td>\n",
       "      <td>0.583333</td>\n",
       "      <td>0.000000</td>\n",
       "      <td>0.416667</td>\n",
       "      <td>0.000000</td>\n",
       "    </tr>\n",
       "    <tr>\n",
       "      <th>4</th>\n",
       "      <td>5</td>\n",
       "      <td>0.413817</td>\n",
       "      <td>0.916667</td>\n",
       "      <td>0.000000</td>\n",
       "      <td>0.083333</td>\n",
       "      <td>0.000000</td>\n",
       "    </tr>\n",
       "    <tr>\n",
       "      <th>5</th>\n",
       "      <td>6</td>\n",
       "      <td>1.280672</td>\n",
       "      <td>0.000000</td>\n",
       "      <td>0.583333</td>\n",
       "      <td>0.083333</td>\n",
       "      <td>0.333333</td>\n",
       "    </tr>\n",
       "    <tr>\n",
       "      <th>6</th>\n",
       "      <td>7</td>\n",
       "      <td>0.979869</td>\n",
       "      <td>0.000000</td>\n",
       "      <td>0.416667</td>\n",
       "      <td>0.000000</td>\n",
       "      <td>0.583333</td>\n",
       "    </tr>\n",
       "    <tr>\n",
       "      <th>7</th>\n",
       "      <td>8</td>\n",
       "      <td>0.000000</td>\n",
       "      <td>0.000000</td>\n",
       "      <td>0.000000</td>\n",
       "      <td>0.000000</td>\n",
       "      <td>1.000000</td>\n",
       "    </tr>\n",
       "    <tr>\n",
       "      <th>8</th>\n",
       "      <td>9</td>\n",
       "      <td>0.000000</td>\n",
       "      <td>0.000000</td>\n",
       "      <td>1.000000</td>\n",
       "      <td>0.000000</td>\n",
       "      <td>0.000000</td>\n",
       "    </tr>\n",
       "    <tr>\n",
       "      <th>9</th>\n",
       "      <td>10</td>\n",
       "      <td>0.000000</td>\n",
       "      <td>0.000000</td>\n",
       "      <td>1.000000</td>\n",
       "      <td>0.000000</td>\n",
       "      <td>0.000000</td>\n",
       "    </tr>\n",
       "  </tbody>\n",
       "</table>\n",
       "</div>"
      ],
      "text/plain": [
       "   position         H         A         C         G         T\n",
       "0         1  0.000000  0.000000  0.000000  1.000000  0.000000\n",
       "1         2  0.000000  0.000000  0.000000  1.000000  0.000000\n",
       "2         3  0.000000  0.000000  0.000000  1.000000  0.000000\n",
       "3         4  0.979869  0.583333  0.000000  0.416667  0.000000\n",
       "4         5  0.413817  0.916667  0.000000  0.083333  0.000000\n",
       "5         6  1.280672  0.000000  0.583333  0.083333  0.333333\n",
       "6         7  0.979869  0.000000  0.416667  0.000000  0.583333\n",
       "7         8  0.000000  0.000000  0.000000  0.000000  1.000000\n",
       "8         9  0.000000  0.000000  1.000000  0.000000  0.000000\n",
       "9        10  0.000000  0.000000  1.000000  0.000000  0.000000"
      ]
     },
     "execution_count": 8,
     "metadata": {},
     "output_type": "execute_result"
    }
   ],
   "source": [
    "import pandas as pd\n",
    "\n",
    "L = len(seqs[0])\n",
    "alphabet = [\"A\", \"C\", \"G\", \"T\"]\n",
    "\n",
    "rows = []\n",
    "for i in range(L):\n",
    "    col = [s[i] for s in seqs]\n",
    "    counts = Counter(col)\n",
    "    freqs = {b: counts.get(b, 0) / len(seqs) for b in alphabet}\n",
    "    H = column_entropy(col)\n",
    "    rows.append({\"position\": i+1, \"H\": H, **freqs})\n",
    "\n",
    "df = pd.DataFrame(rows)\n",
    "df\n"
   ]
  },
  {
   "cell_type": "code",
   "execution_count": 9,
   "id": "0efecbde-e504-46f3-aab9-3c81a1421ad4",
   "metadata": {},
   "outputs": [
    {
     "data": {
      "image/png": "[encoded data removed]",
      "text/plain": [
       "<Figure size 600x300 with 1 Axes>"
      ]
     },
     "metadata": {},
     "output_type": "display_data"
    }
   ],
   "source": [
    "import matplotlib.pyplot as plt\n",
    "\n",
    "plt.figure(figsize=(6,3))\n",
    "plt.bar(df[\"position\"], df[\"H\"], color=\"skyblue\", edgecolor=\"black\")\n",
    "plt.xlabel(\"Position in motif\")\n",
    "plt.ylabel(\"Entropy (bits)\")\n",
    "plt.title(\"NF-κB motif per-column entropy\")\n",
    "plt.show()\n"
   ]
  },
  {
   "cell_type": "markdown",
   "id": "15a0e09b-9645-4887-be53-89d30d688059",
   "metadata": {},
   "source": [
    "**Figure 1. NF-κB motif per-column entropy.**  \n",
    "Bars show information content across 12 example binding sites. Lower entropy values (near 0) correspond to highly conserved positions, while higher entropy indicates variable bases. This highlights conserved “GGG” at the start and “CC” at the end, consistent with the NF-κB consensus motif (GGGRNNYYCC).\n"
   ]
  },
  {
   "cell_type": "markdown",
   "id": "cd94f11f-0621-47fb-ad5c-b0e8ec494b38",
   "metadata": {},
   "source": [
    "# Motif Entropy Analysis: NF-κB Example\n",
    "\n",
    "This notebook shows a complete, reproducible workflow:\n",
    "1. **Data loading** — read FASTA sequences\n",
    "2. **Validation** — check sequence length, alphabet, and formatting\n",
    "3. **Computation** — calculate total motif entropy and per-column entropy\n",
    "4. **Visualization** — plot per-column entropy and add a short caption\n"
   ]
  },
  {
   "cell_type": "markdown",
   "id": "9b2765d5-b11f-4a16-9b2f-d9c42acca496",
   "metadata": {},
   "source": [
    "## 1. Data Loading\n"
   ]
  },
  {
   "cell_type": "markdown",
   "id": "1f5d2dba-5989-4033-ad8b-46607e9c6792",
   "metadata": {},
   "source": [
    "## 2. Dataset Validation\n"
   ]
  },
  {
   "cell_type": "markdown",
   "id": "2828282b-c03f-4f0a-ae04-487a44f44c44",
   "metadata": {},
   "source": [
    "## 3. Computation\n"
   ]
  },
  {
   "cell_type": "markdown",
   "id": "f7b0e645-19da-4be3-b5a8-d27b3666be2d",
   "metadata": {},
   "source": [
    "## 4. Visualization\n"
   ]
  },
  {
   "cell_type": "markdown",
   "id": "b0271bc3-e3ae-4772-8b61-4d4b68b600aa",
   "metadata": {},
   "source": [
    "## 5. Challenges and Fixes\n",
    "\n",
    "During development, several issues came up:\n",
    "\n",
    "- **IndentationError**: The first attempt at writing `motif_entropy.py` had hidden spaces at the top of the file.  \n",
    "  *Fix*: Rewrote the file carefully in Notepad with no extra spaces at line 1.\n",
    "\n",
    "- **FASTA not loading (0.0 entropy)**: At one point the script returned `0.0`.  \n",
    "  *Fix*: This revealed the parser only loaded 1 sequence because the FASTA was malformed. Rebuilt the FASTA with proper headers (`>seqX`) for each line.\n",
    "\n",
    "- **Notebook variables lost after restart**: When re-opening Jupyter, variables like `DATA` and `seqs` were missing.  \n",
    "  *Fix*: Re-ran the path setup and FASTA-loading cells in order. Added clear section headers so re-runs are straightforward.\n",
    "\n",
    "- **Save error (“Failed to fetch”)**: Jupyter initially could not save the notebook.  \n",
    "  *Fix*: Restarted Jupyter cleanly from Anaconda Prompt, which resolved the issue.\n",
    "\n",
    "These challenges document a realistic debugging process and show how reproducibility and structure help overcome common errors.\n"
   ]
  },
  {
   "cell_type": "code",
   "execution_count": null,
   "id": "6f2675e5-0fbd-400d-9fe4-b6f3f9c7c930",
   "metadata": {},
   "outputs": [],
   "source": [
    "# Background entropy for uniform A/C/G/T (2 bits)\n",
    "H_bg = 2.0\n",
    "\n",
    "# Add information content per position: I_j = H_bg - H_j\n",
    "df[\"I\"] = H_bg - df[\"H\"]\n",
    "\n",
    "# Show the updated table\n",
    "df[[\"position\", \"H\", \"I\", \"A\", \"C\", \"G\", \"T\"]]\n"
   ]
  },
  {
   "cell_type": "code",
   "execution_count": null,
   "id": "9edbcfb6-8154-447f-92e2-4dc4028bdd6f",
   "metadata": {},
   "outputs": [],
   "source": [
    "import matplotlib.pyplot as plt\n",
    "\n",
    "plt.figure(figsize=(6,3))\n",
    "plt.bar(df[\"position\"], df[\"I\"])\n",
    "plt.xlabel(\"Position in motif\")\n",
    "plt.ylabel(\"Information (bits)\")\n",
    "plt.title(\"NF-κB motif: per-column information content (I)\")\n",
    "plt.show()\n"
   ]
  },
  {
   "cell_type": "code",
   "execution_count": null,
   "id": "633c30ba-a7c7-4966-960f-4097b9d842d7",
   "metadata": {},
   "outputs": [],
   "source": [
    "try:\n",
    "    import logomaker as lm\n",
    "    print(\"logomaker version:\", lm.__version__)\n",
    "except ModuleNotFoundError:\n",
    "    print(\"Logomaker not found — stop Jupyter, then in Anaconda Prompt run:\")\n",
    "    print(\"    conda activate motif-entropy\")\n",
    "    print(\"    pip install logomaker\")\n"
   ]
  },
  {
   "cell_type": "code",
   "execution_count": null,
   "id": "c90339d9-81a1-4a18-bebd-e5c0026f4e72",
   "metadata": {},
   "outputs": [],
   "source": [
    "# Build a position–probability matrix (PPM) from df\n",
    "ppm = df[[\"A\",\"C\",\"G\",\"T\"]].copy()\n",
    "ppm.index = df[\"position\"]  # nicer x-axis labels\n",
    "\n",
    "plt.figure(figsize=(8,2.5))\n",
    "lm.Logo(ppm)\n",
    "plt.title(\"NF-κB sequence logo (frequency-scaled)\")\n",
    "plt.xlabel(\"Position\")\n",
    "plt.ylabel(\"Frequency\")\n",
    "plt.show()\n"
   ]
  },
  {
   "cell_type": "code",
   "execution_count": null,
   "id": "521005e3-cd02-4da9-9d35-a9c920c11fd1",
   "metadata": {},
   "outputs": [],
   "source": [
    "# Multiply each row of the PPM by its information content (I_j)\n",
    "info_ppm = ppm.mul(df[\"I\"].values, axis=0)\n",
    "\n",
    "plt.figure(figsize=(8,2.5))\n",
    "lm.Logo(info_ppm)\n",
    "plt.title(\"NF-κB sequence logo (information-weighted)\")\n",
    "plt.xlabel(\"Position\")\n",
    "plt.ylabel(\"Information-weighted height\")\n",
    "plt.show()\n"
   ]
  },
  {
   "cell_type": "code",
   "execution_count": null,
   "id": "a4acc2c7-11cb-45be-bf42-286a77be4a02",
   "metadata": {},
   "outputs": [],
   "source": [
    "from pathlib import Path\n",
    "FIGS = (Path.cwd().parents[0] / \"figs\")\n",
    "FIGS.mkdir(exist_ok=True)\n",
    "\n",
    "# 1) Save the information bar chart\n",
    "plt.figure(figsize=(6,3))\n",
    "plt.bar(df[\"position\"], df[\"I\"])\n",
    "plt.xlabel(\"Position in motif\")\n",
    "plt.ylabel(\"Information (bits)\")\n",
    "plt.title(\"NF-κB motif: per-column information content (I)\")\n",
    "plt.savefig(FIGS / \"nfkb_information_bar.png\", dpi=150, bbox_inches=\"tight\")\n",
    "plt.close()\n",
    "\n",
    "# 2) Save the information-weighted logo\n",
    "plt.figure(figsize=(8,2.5))\n",
    "lm.Logo(info_ppm)\n",
    "plt.title(\"NF-κB sequence logo (information-weighted)\")\n",
    "plt.xlabel(\"Position\")\n",
    "plt.ylabel(\"Information-weighted height\")\n",
    "plt.savefig(FIGS / \"nfkb_information_logo.png\", dpi=150, bbox_inches=\"tight\")\n",
    "plt.close()\n",
    "\n",
    "# Show where they were saved\n",
    "print(\"Saved to:\", FIGS)\n",
    "list(FIGS.iterdir())\n"
   ]
  },
  {
   "cell_type": "code",
   "execution_count": null,
   "id": "893719a6-09e5-4a4a-b43f-bcd79361c785",
   "metadata": {},
   "outputs": [],
   "source": [
    "fig, ax = plt.subplots()\n",
    "ax.bar(range(1, len(entropy)+1), entropy)\n",
    "ax.set_xlabel(\"Position in motif\")\n",
    "ax.set_ylabel(\"Entropy (bits)\")\n",
    "ax.set_title(\"NF-κB motif per-column entropy\")\n",
    "\n",
    "# Save figure\n",
    "fig.savefig(\"../docs/figs/entropy_by_position.png\", dpi=300, bbox_inches=\"tight\")\n"
   ]
  },
  {
   "cell_type": "code",
   "execution_count": 1,
   "id": "6b7a4729-5bf5-4adc-a4df-abc10a470d00",
   "metadata": {},
   "outputs": [
    {
     "name": "stdout",
     "output_type": "stream",
     "text": [
      "Python exe: C:\\Users\\14024\\miniconda3\\envs\\motif-entropy\\python.exe\n",
      "numpy 2.3.3 | pandas 2.3.2 | matplotlib 3.10.6\n"
     ]
    }
   ],
   "source": [
    "import sys, platform\n",
    "print(\"Python exe:\", sys.executable)\n",
    "import numpy as np, pandas as pd, matplotlib\n",
    "print(\"numpy\", np.__version__, \"| pandas\", pd.__version__, \"| matplotlib\", matplotlib.__version__)"
   ]
  },
  {
   "cell_type": "code",
   "execution_count": 2,
   "id": "879ca59d-451a-407b-a9c7-7499c8574691",
   "metadata": {},
   "outputs": [
    {
     "name": "stdout",
     "output_type": "stream",
     "text": [
      "Requirement already satisfied: logomaker in c:\\users\\14024\\miniconda3\\envs\\motif-entropy\\lib\\site-packages (0.8.7)\n",
      "Requirement already satisfied: matplotlib in c:\\users\\14024\\miniconda3\\envs\\motif-entropy\\lib\\site-packages (from logomaker) (3.10.6)\n",
      "Requirement already satisfied: numpy in c:\\users\\14024\\miniconda3\\envs\\motif-entropy\\lib\\site-packages (from logomaker) (2.3.3)\n",
      "Requirement already satisfied: pandas in c:\\users\\14024\\miniconda3\\envs\\motif-entropy\\lib\\site-packages (from logomaker) (2.3.2)\n",
      "Requirement already satisfied: contourpy>=1.0.1 in c:\\users\\14024\\miniconda3\\envs\\motif-entropy\\lib\\site-packages (from matplotlib->logomaker) (1.3.3)\n",
      "Requirement already satisfied: cycler>=0.10 in c:\\users\\14024\\miniconda3\\envs\\motif-entropy\\lib\\site-packages (from matplotlib->logomaker) (0.12.1)\n",
      "Requirement already satisfied: fonttools>=4.22.0 in c:\\users\\14024\\miniconda3\\envs\\motif-entropy\\lib\\site-packages (from matplotlib->logomaker) (4.59.2)\n",
      "Requirement already satisfied: kiwisolver>=1.3.1 in c:\\users\\14024\\miniconda3\\envs\\motif-entropy\\lib\\site-packages (from matplotlib->logomaker) (1.4.9)\n",
      "Requirement already satisfied: packaging>=20.0 in c:\\users\\14024\\miniconda3\\envs\\motif-entropy\\lib\\site-packages (from matplotlib->logomaker) (25.0)\n",
      "Requirement already satisfied: pillow>=8 in c:\\users\\14024\\miniconda3\\envs\\motif-entropy\\lib\\site-packages (from matplotlib->logomaker) (11.3.0)\n",
      "Requirement already satisfied: pyparsing>=2.3.1 in c:\\users\\14024\\miniconda3\\envs\\motif-entropy\\lib\\site-packages (from matplotlib->logomaker) (3.2.4)\n",
      "Requirement already satisfied: python-dateutil>=2.7 in c:\\users\\14024\\miniconda3\\envs\\motif-entropy\\lib\\site-packages (from matplotlib->logomaker) (2.9.0.post0)\n",
      "Requirement already satisfied: six>=1.5 in c:\\users\\14024\\miniconda3\\envs\\motif-entropy\\lib\\site-packages (from python-dateutil>=2.7->matplotlib->logomaker) (1.17.0)\n",
      "Requirement already satisfied: pytz>=2020.1 in c:\\users\\14024\\miniconda3\\envs\\motif-entropy\\lib\\site-packages (from pandas->logomaker) (2025.2)\n",
      "Requirement already satisfied: tzdata>=2022.7 in c:\\users\\14024\\miniconda3\\envs\\motif-entropy\\lib\\site-packages (from pandas->logomaker) (2025.2)\n",
      "Note: you may need to restart the kernel to use updated packages.\n",
      "logomaker: 0.8.7\n"
     ]
    }
   ],
   "source": [
    "%pip install logomaker\n",
    "import logomaker as lm\n",
    "print(\"logomaker:\", lm.__version__)\n"
   ]
  },
  {
   "cell_type": "code",
   "execution_count": 3,
   "id": "88d722de-f0f7-46d6-a743-a30df6fe9413",
   "metadata": {},
   "outputs": [
    {
     "name": "stdout",
     "output_type": "stream",
     "text": [
      "Created: C:\\Users\\14024\\Documents\\bio-projects\\motif-entropy-nfkb\\notebooks\\figs\n",
      "Created: C:\\Users\\14024\\Documents\\bio-projects\\motif-entropy-nfkb\\docs\\figs\n"
     ]
    }
   ],
   "source": [
    "from pathlib import Path\n",
    "\n",
    "# make sure the folders exist\n",
    "Path(\"figs\").mkdir(exist_ok=True)\n",
    "Path(\"../docs/figs\").mkdir(parents=True, exist_ok=True)\n",
    "\n",
    "print(\"Created:\", Path(\"figs\").resolve())\n",
    "print(\"Created:\", Path(\"../docs/figs\").resolve())\n"
   ]
  },
  {
   "cell_type": "code",
   "execution_count": 4,
   "id": "b23152e0-f3ba-4505-9531-2f02d28fa8dc",
   "metadata": {},
   "outputs": [
    {
     "name": "stdout",
     "output_type": "stream",
     "text": [
      "Number of sequences: 10\n",
      "Length of each sequence: 8\n",
      "First sequence: GGGACTTT\n"
     ]
    }
   ],
   "source": [
    "# Toy aligned sequences representing an NF-κB-like motif\n",
    "seqs = [\n",
    "    \"GGGACTTT\",\n",
    "    \"GGGACCTT\",\n",
    "    \"GGGATTTT\",\n",
    "    \"GGGACTTT\",\n",
    "    \"GGGACGTT\",\n",
    "    \"GGGACTTT\",\n",
    "    \"GGGACATT\",\n",
    "    \"GGGACTTT\",\n",
    "    \"GGGACTCT\",\n",
    "    \"GGGACTTT\",\n",
    "]\n",
    "\n",
    "print(\"Number of sequences:\", len(seqs))\n",
    "print(\"Length of each sequence:\", len(seqs[0]))\n",
    "print(\"First sequence:\", seqs[0])"
   ]
  },
  {
   "cell_type": "code",
   "execution_count": 5,
   "id": "4342436f-e23d-4445-bfe0-065f3ecab22e",
   "metadata": {},
   "outputs": [
    {
     "data": {
      "text/plain": [
       "(   pos1  pos2  pos3  pos4  pos5  pos6  pos7  pos8\n",
       " A   1.0   1.0   1.0  11.0   1.0   2.0   1.0   1.0\n",
       " C   1.0   1.0   1.0   1.0  10.0   2.0   2.0   1.0\n",
       " G  11.0  11.0  11.0   1.0   1.0   2.0   1.0   1.0\n",
       " T   1.0   1.0   1.0   1.0   2.0   8.0  10.0  11.0,\n",
       "     pos1   pos2   pos3   pos4   pos5   pos6   pos7   pos8\n",
       " A  0.071  0.071  0.071  0.786  0.071  0.143  0.071  0.071\n",
       " C  0.071  0.071  0.071  0.071  0.714  0.143  0.143  0.071\n",
       " G  0.786  0.786  0.786  0.071  0.071  0.143  0.071  0.071\n",
       " T  0.071  0.071  0.071  0.071  0.143  0.571  0.714  0.786)"
      ]
     },
     "execution_count": 5,
     "metadata": {},
     "output_type": "execute_result"
    }
   ],
   "source": [
    "import numpy as np\n",
    "import pandas as pd\n",
    "\n",
    "ALPH = [\"A\",\"C\",\"G\",\"T\"]\n",
    "L = len(seqs[0])  # motif length\n",
    "\n",
    "# 1) initialize counts\n",
    "counts = {b: np.zeros(L, dtype=float) for b in ALPH}\n",
    "\n",
    "# 2) fill counts\n",
    "for s in seqs:\n",
    "    assert len(s) == L, \"All sequences must have the same length\"\n",
    "    for j, ch in enumerate(s):\n",
    "        if ch not in ALPH:\n",
    "            raise ValueError(f\"Unexpected character {ch}; only A,C,G,T allowed\")\n",
    "        counts[ch][j] += 1.0\n",
    "\n",
    "# 3) add pseudocounts to avoid zeros\n",
    "alpha = 1.0\n",
    "count_mat = np.vstack([counts[b] for b in ALPH]) + alpha  # shape (4, L)\n",
    "\n",
    "# 4) convert to position probability matrix (PPM)\n",
    "col_totals = count_mat.sum(axis=0, keepdims=True)\n",
    "ppm = count_mat / col_totals  # probabilities per column\n",
    "\n",
    "# 5) quick look at counts and ppm for first few columns\n",
    "counts_df = pd.DataFrame(count_mat, index=ALPH, columns=[f\"pos{j+1}\" for j in range(L)])\n",
    "ppm_df = pd.DataFrame(ppm, index=ALPH, columns=[f\"pos{j+1}\" for j in range(L)])\n",
    "\n",
    "counts_df, ppm_df.round(3)\n"
   ]
  },
  {
   "cell_type": "code",
   "execution_count": 6,
   "id": "459fefca-1008-4cbe-9d75-936f7536616b",
   "metadata": {},
   "outputs": [
    {
     "data": {
      "text/html": [
       "<div>\n",
       "<style scoped>\n",
       "    .dataframe tbody tr th:only-of-type {\n",
       "        vertical-align: middle;\n",
       "    }\n",
       "\n",
       "    .dataframe tbody tr th {\n",
       "        vertical-align: top;\n",
       "    }\n",
       "\n",
       "    .dataframe thead th {\n",
       "        text-align: right;\n",
       "    }\n",
       "</style>\n",
       "<table border=\"1\" class=\"dataframe\">\n",
       "  <thead>\n",
       "    <tr style=\"text-align: right;\">\n",
       "      <th></th>\n",
       "      <th>position</th>\n",
       "      <th>A</th>\n",
       "      <th>C</th>\n",
       "      <th>G</th>\n",
       "      <th>T</th>\n",
       "      <th>H</th>\n",
       "      <th>I</th>\n",
       "    </tr>\n",
       "  </thead>\n",
       "  <tbody>\n",
       "    <tr>\n",
       "      <th>0</th>\n",
       "      <td>1</td>\n",
       "      <td>0.071</td>\n",
       "      <td>0.071</td>\n",
       "      <td>0.786</td>\n",
       "      <td>0.071</td>\n",
       "      <td>1.089</td>\n",
       "      <td>0.911</td>\n",
       "    </tr>\n",
       "    <tr>\n",
       "      <th>1</th>\n",
       "      <td>2</td>\n",
       "      <td>0.071</td>\n",
       "      <td>0.071</td>\n",
       "      <td>0.786</td>\n",
       "      <td>0.071</td>\n",
       "      <td>1.089</td>\n",
       "      <td>0.911</td>\n",
       "    </tr>\n",
       "    <tr>\n",
       "      <th>2</th>\n",
       "      <td>3</td>\n",
       "      <td>0.071</td>\n",
       "      <td>0.071</td>\n",
       "      <td>0.786</td>\n",
       "      <td>0.071</td>\n",
       "      <td>1.089</td>\n",
       "      <td>0.911</td>\n",
       "    </tr>\n",
       "    <tr>\n",
       "      <th>3</th>\n",
       "      <td>4</td>\n",
       "      <td>0.786</td>\n",
       "      <td>0.071</td>\n",
       "      <td>0.071</td>\n",
       "      <td>0.071</td>\n",
       "      <td>1.089</td>\n",
       "      <td>0.911</td>\n",
       "    </tr>\n",
       "    <tr>\n",
       "      <th>4</th>\n",
       "      <td>5</td>\n",
       "      <td>0.071</td>\n",
       "      <td>0.714</td>\n",
       "      <td>0.071</td>\n",
       "      <td>0.143</td>\n",
       "      <td>1.292</td>\n",
       "      <td>0.708</td>\n",
       "    </tr>\n",
       "    <tr>\n",
       "      <th>5</th>\n",
       "      <td>6</td>\n",
       "      <td>0.143</td>\n",
       "      <td>0.143</td>\n",
       "      <td>0.143</td>\n",
       "      <td>0.571</td>\n",
       "      <td>1.664</td>\n",
       "      <td>0.336</td>\n",
       "    </tr>\n",
       "    <tr>\n",
       "      <th>6</th>\n",
       "      <td>7</td>\n",
       "      <td>0.071</td>\n",
       "      <td>0.143</td>\n",
       "      <td>0.071</td>\n",
       "      <td>0.714</td>\n",
       "      <td>1.292</td>\n",
       "      <td>0.708</td>\n",
       "    </tr>\n",
       "    <tr>\n",
       "      <th>7</th>\n",
       "      <td>8</td>\n",
       "      <td>0.071</td>\n",
       "      <td>0.071</td>\n",
       "      <td>0.071</td>\n",
       "      <td>0.786</td>\n",
       "      <td>1.089</td>\n",
       "      <td>0.911</td>\n",
       "    </tr>\n",
       "  </tbody>\n",
       "</table>\n",
       "</div>"
      ],
      "text/plain": [
       "   position      A      C      G      T      H      I\n",
       "0         1  0.071  0.071  0.786  0.071  1.089  0.911\n",
       "1         2  0.071  0.071  0.786  0.071  1.089  0.911\n",
       "2         3  0.071  0.071  0.786  0.071  1.089  0.911\n",
       "3         4  0.786  0.071  0.071  0.071  1.089  0.911\n",
       "4         5  0.071  0.714  0.071  0.143  1.292  0.708\n",
       "5         6  0.143  0.143  0.143  0.571  1.664  0.336\n",
       "6         7  0.071  0.143  0.071  0.714  1.292  0.708\n",
       "7         8  0.071  0.071  0.071  0.786  1.089  0.911"
      ]
     },
     "execution_count": 6,
     "metadata": {},
     "output_type": "execute_result"
    }
   ],
   "source": [
    "# 1) Per-column entropy\n",
    "H = -(ppm * np.log2(ppm)).sum(axis=0)\n",
    "\n",
    "# 2) Background entropy for uniform {A,C,G,T}\n",
    "H_bg = 2.0\n",
    "\n",
    "# 3) Information = background - entropy\n",
    "I = H_bg - H\n",
    "\n",
    "# 4) Put everything into a dataframe\n",
    "df = pd.DataFrame({\n",
    "    \"position\": np.arange(1, L+1),\n",
    "    \"A\": ppm[0], \"C\": ppm[1], \"G\": ppm[2], \"T\": ppm[3],\n",
    "    \"H\": H, \"I\": I\n",
    "})\n",
    "\n",
    "df.round(3)\n"
   ]
  },
  {
   "cell_type": "code",
   "execution_count": 7,
   "id": "8859ff65-7bf8-4f86-a3ab-9d3df175448a",
   "metadata": {},
   "outputs": [
    {
     "data": {
      "image/png": "[encoded data removed]",
      "text/plain": [
       "<Figure size 600x300 with 1 Axes>"
      ]
     },
     "metadata": {},
     "output_type": "display_data"
    }
   ],
   "source": [
    "import matplotlib.pyplot as plt\n",
    "\n",
    "plt.figure(figsize=(6,3))\n",
    "plt.bar(df[\"position\"], df[\"I\"])\n",
    "plt.xlabel(\"Position in motif\")\n",
    "plt.ylabel(\"Information (bits)\")\n",
    "plt.title(\"NF-κB motif: per-column information content (I)\")\n",
    "plt.show()"
   ]
  },
  {
   "cell_type": "code",
   "execution_count": 8,
   "id": "a21844ce-0d23-485d-9900-1744a9a6503a",
   "metadata": {},
   "outputs": [
    {
     "data": {
      "text/plain": [
       "<Figure size 800x250 with 0 Axes>"
      ]
     },
     "metadata": {},
     "output_type": "display_data"
    },
    {
     "data": {
      "image/png": "[encoded data removed]",
      "text/plain": [
       "<Figure size 1000x250 with 1 Axes>"
      ]
     },
     "metadata": {},
     "output_type": "display_data"
    }
   ],
   "source": [
    "import logomaker as lm\n",
    "\n",
    "ppm_df = df[[\"A\",\"C\",\"G\",\"T\"]].copy()\n",
    "ppm_df.index = df[\"position\"]\n",
    "\n",
    "plt.figure(figsize=(8,2.5))\n",
    "lm.Logo(ppm_df)\n",
    "plt.title(\"NF-κB sequence logo (frequency-scaled)\")\n",
    "plt.xlabel(\"Position\")\n",
    "plt.ylabel(\"Frequency\")\n",
    "plt.show()"
   ]
  },
  {
   "cell_type": "code",
   "execution_count": 9,
   "id": "110e4a9e-3d72-49e6-9eb0-f44d60a50d7c",
   "metadata": {},
   "outputs": [
    {
     "data": {
      "text/plain": [
       "<Figure size 800x250 with 0 Axes>"
      ]
     },
     "metadata": {},
     "output_type": "display_data"
    },
    {
     "data": {
      "image/png": "[encoded data removed]",
      "text/plain": [
       "<Figure size 1000x250 with 1 Axes>"
      ]
     },
     "metadata": {},
     "output_type": "display_data"
    }
   ],
   "source": [
    "import logomaker as lm\n",
    "\n",
    "# reuse ppm_df from before (A,C,G,T as columns, index = position)\n",
    "info_ppm = ppm_df.multiply(df[\"I\"].values, axis=0)\n",
    "\n",
    "plt.figure(figsize=(8,2.5))\n",
    "lm.Logo(info_ppm)\n",
    "plt.title(\"NF-κB sequence logo (information-weighted)\")\n",
    "plt.xlabel(\"Position\")\n",
    "plt.ylabel(\"Information-weighted height\")\n",
    "plt.show()\n"
   ]
  },
  {
   "cell_type": "code",
   "execution_count": 10,
   "id": "57de2e2e-d4e6-42a4-b943-262425b796b0",
   "metadata": {},
   "outputs": [
    {
     "name": "stdout",
     "output_type": "stream",
     "text": [
      "Saved to: C:\\Users\\14024\\Documents\\bio-projects\\motif-entropy-nfkb\\notebooks\\figs\\nfkb_information_bar.png\n"
     ]
    },
    {
     "data": {
      "text/plain": [
       "<Figure size 800x250 with 0 Axes>"
      ]
     },
     "metadata": {},
     "output_type": "display_data"
    },
    {
     "data": {
      "text/plain": [
       "<Figure size 800x250 with 0 Axes>"
      ]
     },
     "metadata": {},
     "output_type": "display_data"
    }
   ],
   "source": [
    "from pathlib import Path\n",
    "import matplotlib.pyplot as plt\n",
    "import logomaker as lm\n",
    "\n",
    "# ensure folders exist (already created earlier, but safe to repeat)\n",
    "Path(\"figs\").mkdir(exist_ok=True)\n",
    "Path(\"../docs/figs\").mkdir(parents=True, exist_ok=True)\n",
    "\n",
    "# (a) Information bar chart\n",
    "plt.figure(figsize=(6,3))\n",
    "plt.bar(df[\"position\"], df[\"I\"])\n",
    "plt.xlabel(\"Position in motif\"); plt.ylabel(\"Information (bits)\")\n",
    "plt.title(\"NF-κB motif: per-column information content (I)\")\n",
    "plt.savefig(Path(\"figs\") / \"nfkb_information_bar.png\", dpi=150, bbox_inches=\"tight\")\n",
    "plt.savefig(Path(\"../docs/figs\") / \"nfkb_information_bar.png\", dpi=150, bbox_inches=\"tight\")\n",
    "plt.close()\n",
    "\n",
    "# (b) Frequency logo\n",
    "ppm_df = df[[\"A\",\"C\",\"G\",\"T\"]].copy()\n",
    "ppm_df.index = df[\"position\"]\n",
    "\n",
    "plt.figure(figsize=(8,2.5))\n",
    "lm.Logo(ppm_df)\n",
    "plt.title(\"NF-κB sequence logo (frequency-scaled)\")\n",
    "plt.xlabel(\"Position\"); plt.ylabel(\"Frequency\")\n",
    "plt.savefig(Path(\"figs\") / \"nfkb_logo_frequency.png\", dpi=150, bbox_inches=\"tight\")\n",
    "plt.savefig(Path(\"../docs/figs\") / \"nfkb_logo_frequency.png\", dpi=150, bbox_inches=\"tight\")\n",
    "plt.close()\n",
    "\n",
    "# (c) Information-weighted logo\n",
    "info_ppm = ppm_df.multiply(df[\"I\"].values, axis=0)\n",
    "\n",
    "plt.figure(figsize=(8,2.5))\n",
    "lm.Logo(info_ppm)\n",
    "plt.title(\"NF-κB sequence logo (information-weighted)\")\n",
    "plt.xlabel(\"Position\"); plt.ylabel(\"Information-weighted height\")\n",
    "plt.savefig(Path(\"figs\") / \"nfkb_logo_information_weighted.png\", dpi=150, bbox_inches=\"tight\")\n",
    "plt.savefig(Path(\"../docs/figs\") / \"nfkb_logo_information_weighted.png\", dpi=150, bbox_inches=\"tight\")\n",
    "plt.close()\n",
    "\n",
    "print(\"Saved to:\", (Path(\"figs\") / \"nfkb_information_bar.png\").resolve())\n"
   ]
  },
  {
   "cell_type": "code",
   "execution_count": 11,
   "id": "b7298e71-9623-4eca-a503-2e7886cf6fde",
   "metadata": {},
   "outputs": [
    {
     "name": "stdout",
     "output_type": "stream",
     "text": [
      "Wrote:\n",
      " - C:\\Users\\14024\\Documents\\bio-projects\\motif-entropy-nfkb\\results\\motif_metrics.csv\n",
      " - C:\\Users\\14024\\Documents\\bio-projects\\motif-entropy-nfkb\\results\\counts_with_pseudocounts.csv\n",
      " - C:\\Users\\14024\\Documents\\bio-projects\\motif-entropy-nfkb\\results\\ppm.csv\n",
      " - C:\\Users\\14024\\Documents\\bio-projects\\motif-entropy-nfkb\\results\\summary.txt\n",
      "\n",
      "Total columns: 8\n",
      "Total entropy (bits): 9.694032\n",
      "Total information (bits): 6.305968\n",
      "\n"
     ]
    }
   ],
   "source": [
    "from pathlib import Path\n",
    "import pandas as pd\n",
    "import numpy as np\n",
    "\n",
    "# Ensure output folder exists\n",
    "outdir = Path(\"../results\")\n",
    "outdir.mkdir(parents=True, exist_ok=True)\n",
    "\n",
    "# 1) Save per-position metrics (A,C,G,T,H,I)\n",
    "df_out = df.copy()\n",
    "df_out.to_csv(outdir / \"motif_metrics.csv\", index=False)\n",
    "\n",
    "# 2) Save counts and probabilities (nice to have)\n",
    "counts_df.to_csv(outdir / \"counts_with_pseudocounts.csv\")\n",
    "ppm_df.to_csv(outdir / \"ppm.csv\")\n",
    "\n",
    "# 3) Save totals\n",
    "total_entropy = float(df[\"H\"].sum())\n",
    "total_information = float(df[\"I\"].sum())\n",
    "\n",
    "summary = (\n",
    "    f\"Total columns: {len(df)}\\n\"\n",
    "    f\"Total entropy (bits): {total_entropy:.6f}\\n\"\n",
    "    f\"Total information (bits): {total_information:.6f}\\n\"\n",
    ")\n",
    "(outdir / \"summary.txt\").write_text(summary, encoding=\"utf-8\")\n",
    "\n",
    "print(\"Wrote:\")\n",
    "print(\" -\", (outdir / \"motif_metrics.csv\").resolve())\n",
    "print(\" -\", (outdir / \"counts_with_pseudocounts.csv\").resolve())\n",
    "print(\" -\", (outdir / \"ppm.csv\").resolve())\n",
    "print(\" -\", (outdir / \"summary.txt\").resolve())\n",
    "print()\n",
    "print(summary)\n"
   ]
  },
  {
   "cell_type": "code",
   "execution_count": 12,
   "id": "a29750c6-ba40-4838-be17-d235f2a00e0f",
   "metadata": {},
   "outputs": [
    {
     "name": "stdout",
     "output_type": "stream",
     "text": [
      "Exists: False\n"
     ]
    }
   ],
   "source": [
    "from pathlib import Path\n",
    "\n",
    "p = Path(\"data/nfkb_example.fasta\")\n",
    "print(\"Exists:\", p.exists())\n",
    "if p.exists():\n",
    "    print(\"Full path:\", p.resolve())\n",
    "    try:\n",
    "        print(\"Size (bytes):\", p.stat().st_size)\n",
    "    except Exception as e:\n",
    "        print(\"Could not read file size:\", e)\n",
    "\n",
    "    # preview first 12 lines (including headers) so we can confirm format\n",
    "    with p.open() as f:\n",
    "        for i, line in enumerate(f):\n",
    "            if i >= 12:\n",
    "                break\n",
    "            print(repr(line.rstrip(\"\\n\")))\n"
   ]
  },
  {
   "cell_type": "code",
   "execution_count": 13,
   "id": "5e5d23c5-8541-4415-b700-c3af1095b5b9",
   "metadata": {},
   "outputs": [
    {
     "name": "stdout",
     "output_type": "stream",
     "text": [
      "CWD: C:\\Users\\14024\\Documents\\bio-projects\\motif-entropy-nfkb\\notebooks\n",
      "Candidate 1: data\\nfkb_example.fasta -> False\n",
      "Candidate 2: ..\\data\\nfkb_example.fasta -> True\n",
      "Candidate 3: ..\\..\\data\\nfkb_example.fasta -> False\n",
      "Done scanning.\n"
     ]
    }
   ],
   "source": [
    "from pathlib import Path\n",
    "\n",
    "print(\"CWD:\", Path.cwd())\n",
    "\n",
    "candidates = [\n",
    "    Path(\"data/nfkb_example.fasta\"),\n",
    "    Path(\"../data/nfkb_example.fasta\"),\n",
    "    Path(\"../../data/nfkb_example.fasta\"),\n",
    "]\n",
    "\n",
    "for i, c in enumerate(candidates, 1):\n",
    "    print(f\"Candidate {i}: {c} ->\", c.exists())\n",
    "\n",
    "# If not found in common spots, search the project tree (may print a few lines)\n",
    "root = Path.cwd()\n",
    "found = None\n",
    "for p in root.rglob(\"nfkb_example.fasta\"):\n",
    "    print(\"Found at:\", p)\n",
    "    found = p\n",
    "    break\n",
    "\n",
    "print(\"Done scanning.\")\n"
   ]
  },
  {
   "cell_type": "code",
   "execution_count": 14,
   "id": "bf4531e9-88c8-4dc5-a9be-7825ad43dac9",
   "metadata": {},
   "outputs": [
    {
     "name": "stdout",
     "output_type": "stream",
     "text": [
      "Loaded 12 sequences of length 10\n",
      "First sequence: GGGAACTTCC ...\n"
     ]
    }
   ],
   "source": [
    "from pathlib import Path\n",
    "\n",
    "def read_fasta(path):\n",
    "    seqs, cur = [], []\n",
    "    with open(path) as f:\n",
    "        for line in f:\n",
    "            line = line.strip()\n",
    "            if not line:\n",
    "                continue\n",
    "            if line.startswith(\">\"):\n",
    "                if cur:\n",
    "                    seqs.append(\"\".join(cur).upper())\n",
    "                    cur = []\n",
    "            else:\n",
    "                cur.append(line)\n",
    "    if cur:\n",
    "        seqs.append(\"\".join(cur).upper())\n",
    "    return seqs\n",
    "\n",
    "# Load the real fasta\n",
    "fasta_path = Path(\"../data/nfkb_example.fasta\")\n",
    "seqs = read_fasta(fasta_path)\n",
    "\n",
    "print(\"Loaded\", len(seqs), \"sequences of length\", len(seqs[0]))\n",
    "print(\"First sequence:\", seqs[0][:50], \"...\")\n"
   ]
  },
  {
   "cell_type": "code",
   "execution_count": 15,
   "id": "c29f820b-6413-48cc-aa5f-8323562f2921",
   "metadata": {},
   "outputs": [
    {
     "data": {
      "text/plain": [
       "(   pos1  pos2  pos3  pos4  pos5  pos6  pos7  pos8  pos9  pos10\n",
       " A   1.0   1.0   1.0   8.0  12.0   1.0   1.0   1.0   1.0    1.0\n",
       " C   1.0   1.0   1.0   1.0   1.0   8.0   6.0   1.0  13.0   13.0\n",
       " G  13.0  13.0  13.0   6.0   2.0   2.0   1.0   1.0   1.0    1.0\n",
       " T   1.0   1.0   1.0   1.0   1.0   5.0   8.0  13.0   1.0    1.0,\n",
       "     pos1   pos2   pos3   pos4   pos5   pos6   pos7   pos8   pos9  pos10\n",
       " A  0.062  0.062  0.062  0.500  0.750  0.062  0.062  0.062  0.062  0.062\n",
       " C  0.062  0.062  0.062  0.062  0.062  0.500  0.375  0.062  0.812  0.812\n",
       " G  0.812  0.812  0.812  0.375  0.125  0.125  0.062  0.062  0.062  0.062\n",
       " T  0.062  0.062  0.062  0.062  0.062  0.312  0.500  0.812  0.062  0.062)"
      ]
     },
     "execution_count": 15,
     "metadata": {},
     "output_type": "execute_result"
    }
   ],
   "source": [
    "import numpy as np\n",
    "import pandas as pd\n",
    "\n",
    "ALPH = [\"A\",\"C\",\"G\",\"T\"]\n",
    "L = len(seqs[0])  # motif length from the real data\n",
    "\n",
    "# 1) validate equal length + allowed chars\n",
    "assert all(len(s)==L for s in seqs), \"All sequences must have same length\"\n",
    "for s in seqs:\n",
    "    for ch in s:\n",
    "        if ch not in ALPH:\n",
    "            raise ValueError(f\"Unexpected character {ch}; only A,C,G,T allowed\")\n",
    "\n",
    "# 2) count matrix\n",
    "counts = {b: np.zeros(L, dtype=float) for b in ALPH}\n",
    "for s in seqs:\n",
    "    for j, ch in enumerate(s):\n",
    "        counts[ch][j] += 1.0\n",
    "\n",
    "# 3) add pseudocounts\n",
    "alpha = 1.0\n",
    "count_mat = np.vstack([counts[b] for b in ALPH]) + alpha  # shape (4, L)\n",
    "\n",
    "# 4) position probability matrix (PPM)\n",
    "col_totals = count_mat.sum(axis=0, keepdims=True)\n",
    "ppm = count_mat / col_totals\n",
    "\n",
    "# 5) tidy views\n",
    "counts_df = pd.DataFrame(count_mat, index=ALPH, columns=[f\"pos{j+1}\" for j in range(L)])\n",
    "ppm_df = pd.DataFrame(ppm, index=ALPH, columns=[f\"pos{j+1}\" for j in range(L)])\n",
    "\n",
    "counts_df, ppm_df.round(3)\n"
   ]
  },
  {
   "cell_type": "code",
   "execution_count": 16,
   "id": "a5db4f12-44e9-4c46-8ac9-90ce2deb68a1",
   "metadata": {},
   "outputs": [
    {
     "data": {
      "text/html": [
       "<div>\n",
       "<style scoped>\n",
       "    .dataframe tbody tr th:only-of-type {\n",
       "        vertical-align: middle;\n",
       "    }\n",
       "\n",
       "    .dataframe tbody tr th {\n",
       "        vertical-align: top;\n",
       "    }\n",
       "\n",
       "    .dataframe thead th {\n",
       "        text-align: right;\n",
       "    }\n",
       "</style>\n",
       "<table border=\"1\" class=\"dataframe\">\n",
       "  <thead>\n",
       "    <tr style=\"text-align: right;\">\n",
       "      <th></th>\n",
       "      <th>position</th>\n",
       "      <th>A</th>\n",
       "      <th>C</th>\n",
       "      <th>G</th>\n",
       "      <th>T</th>\n",
       "      <th>H</th>\n",
       "      <th>I</th>\n",
       "    </tr>\n",
       "  </thead>\n",
       "  <tbody>\n",
       "    <tr>\n",
       "      <th>0</th>\n",
       "      <td>1</td>\n",
       "      <td>0.062</td>\n",
       "      <td>0.062</td>\n",
       "      <td>0.812</td>\n",
       "      <td>0.062</td>\n",
       "      <td>0.993</td>\n",
       "      <td>1.007</td>\n",
       "    </tr>\n",
       "    <tr>\n",
       "      <th>1</th>\n",
       "      <td>2</td>\n",
       "      <td>0.062</td>\n",
       "      <td>0.062</td>\n",
       "      <td>0.812</td>\n",
       "      <td>0.062</td>\n",
       "      <td>0.993</td>\n",
       "      <td>1.007</td>\n",
       "    </tr>\n",
       "    <tr>\n",
       "      <th>2</th>\n",
       "      <td>3</td>\n",
       "      <td>0.062</td>\n",
       "      <td>0.062</td>\n",
       "      <td>0.812</td>\n",
       "      <td>0.062</td>\n",
       "      <td>0.993</td>\n",
       "      <td>1.007</td>\n",
       "    </tr>\n",
       "    <tr>\n",
       "      <th>3</th>\n",
       "      <td>4</td>\n",
       "      <td>0.500</td>\n",
       "      <td>0.062</td>\n",
       "      <td>0.375</td>\n",
       "      <td>0.062</td>\n",
       "      <td>1.531</td>\n",
       "      <td>0.469</td>\n",
       "    </tr>\n",
       "    <tr>\n",
       "      <th>4</th>\n",
       "      <td>5</td>\n",
       "      <td>0.750</td>\n",
       "      <td>0.062</td>\n",
       "      <td>0.125</td>\n",
       "      <td>0.062</td>\n",
       "      <td>1.186</td>\n",
       "      <td>0.814</td>\n",
       "    </tr>\n",
       "    <tr>\n",
       "      <th>5</th>\n",
       "      <td>6</td>\n",
       "      <td>0.062</td>\n",
       "      <td>0.500</td>\n",
       "      <td>0.125</td>\n",
       "      <td>0.312</td>\n",
       "      <td>1.649</td>\n",
       "      <td>0.351</td>\n",
       "    </tr>\n",
       "    <tr>\n",
       "      <th>6</th>\n",
       "      <td>7</td>\n",
       "      <td>0.062</td>\n",
       "      <td>0.375</td>\n",
       "      <td>0.062</td>\n",
       "      <td>0.500</td>\n",
       "      <td>1.531</td>\n",
       "      <td>0.469</td>\n",
       "    </tr>\n",
       "    <tr>\n",
       "      <th>7</th>\n",
       "      <td>8</td>\n",
       "      <td>0.062</td>\n",
       "      <td>0.062</td>\n",
       "      <td>0.062</td>\n",
       "      <td>0.812</td>\n",
       "      <td>0.993</td>\n",
       "      <td>1.007</td>\n",
       "    </tr>\n",
       "    <tr>\n",
       "      <th>8</th>\n",
       "      <td>9</td>\n",
       "      <td>0.062</td>\n",
       "      <td>0.812</td>\n",
       "      <td>0.062</td>\n",
       "      <td>0.062</td>\n",
       "      <td>0.993</td>\n",
       "      <td>1.007</td>\n",
       "    </tr>\n",
       "    <tr>\n",
       "      <th>9</th>\n",
       "      <td>10</td>\n",
       "      <td>0.062</td>\n",
       "      <td>0.812</td>\n",
       "      <td>0.062</td>\n",
       "      <td>0.062</td>\n",
       "      <td>0.993</td>\n",
       "      <td>1.007</td>\n",
       "    </tr>\n",
       "  </tbody>\n",
       "</table>\n",
       "</div>"
      ],
      "text/plain": [
       "   position      A      C      G      T      H      I\n",
       "0         1  0.062  0.062  0.812  0.062  0.993  1.007\n",
       "1         2  0.062  0.062  0.812  0.062  0.993  1.007\n",
       "2         3  0.062  0.062  0.812  0.062  0.993  1.007\n",
       "3         4  0.500  0.062  0.375  0.062  1.531  0.469\n",
       "4         5  0.750  0.062  0.125  0.062  1.186  0.814\n",
       "5         6  0.062  0.500  0.125  0.312  1.649  0.351\n",
       "6         7  0.062  0.375  0.062  0.500  1.531  0.469\n",
       "7         8  0.062  0.062  0.062  0.812  0.993  1.007\n",
       "8         9  0.062  0.812  0.062  0.062  0.993  1.007\n",
       "9        10  0.062  0.812  0.062  0.062  0.993  1.007"
      ]
     },
     "execution_count": 16,
     "metadata": {},
     "output_type": "execute_result"
    }
   ],
   "source": [
    "# Per-column entropy\n",
    "H = -(ppm * np.log2(ppm)).sum(axis=0)\n",
    "\n",
    "# Background entropy for uniform 4-base alphabet\n",
    "H_bg = 2.0\n",
    "\n",
    "# Information = background - entropy\n",
    "I = H_bg - H\n",
    "\n",
    "# Put everything into a DataFrame\n",
    "df = pd.DataFrame({\n",
    "    \"position\": np.arange(1, L+1),\n",
    "    \"A\": ppm[0], \"C\": ppm[1], \"G\": ppm[2], \"T\": ppm[3],\n",
    "    \"H\": H, \"I\": I\n",
    "})\n",
    "\n",
    "df.round(3)\n"
   ]
  },
  {
   "cell_type": "code",
   "execution_count": 17,
   "id": "8899dc5b-757e-4673-b5ba-50ea6b5eaf93",
   "metadata": {},
   "outputs": [
    {
     "data": {
      "image/png": "[encoded data removed]",
      "text/plain": [
       "<Figure size 600x300 with 1 Axes>"
      ]
     },
     "metadata": {},
     "output_type": "display_data"
    },
    {
     "data": {
      "text/plain": [
       "<Figure size 800x250 with 0 Axes>"
      ]
     },
     "metadata": {},
     "output_type": "display_data"
    },
    {
     "data": {
      "image/png": "[encoded data removed]",
      "text/plain": [
       "<Figure size 1000x250 with 1 Axes>"
      ]
     },
     "metadata": {},
     "output_type": "display_data"
    },
    {
     "data": {
      "text/plain": [
       "<Figure size 800x250 with 0 Axes>"
      ]
     },
     "metadata": {},
     "output_type": "display_data"
    },
    {
     "data": {
      "image/png": "[encoded data removed]",
      "text/plain": [
       "<Figure size 1000x250 with 1 Axes>"
      ]
     },
     "metadata": {},
     "output_type": "display_data"
    }
   ],
   "source": [
    "import matplotlib.pyplot as plt\n",
    "import logomaker as lm\n",
    "\n",
    "# (a) Information bar plot\n",
    "plt.figure(figsize=(6,3))\n",
    "plt.bar(df[\"position\"], df[\"I\"])\n",
    "plt.xlabel(\"Position in motif\")\n",
    "plt.ylabel(\"Information (bits)\")\n",
    "plt.title(\"NF-κB motif (real FASTA): per-column information content\")\n",
    "plt.show()\n",
    "\n",
    "# (b) Frequency logo\n",
    "ppm_df = df[[\"A\",\"C\",\"G\",\"T\"]].copy()\n",
    "ppm_df.index = df[\"position\"]\n",
    "\n",
    "plt.figure(figsize=(8,2.5))\n",
    "lm.Logo(ppm_df)\n",
    "plt.title(\"NF-κB motif (real FASTA): frequency logo\")\n",
    "plt.xlabel(\"Position\"); plt.ylabel(\"Frequency\")\n",
    "plt.show()\n",
    "\n",
    "# (c) Information-weighted logo\n",
    "info_ppm = ppm_df.multiply(df[\"I\"].values, axis=0)\n",
    "\n",
    "plt.figure(figsize=(8,2.5))\n",
    "lm.Logo(info_ppm)\n",
    "plt.title(\"NF-κB motif (real FASTA): information-weighted logo\")\n",
    "plt.xlabel(\"Position\"); plt.ylabel(\"Information-weighted height\")\n",
    "plt.show()\n"
   ]
  },
  {
   "cell_type": "code",
   "execution_count": 18,
   "id": "34de0295-f5e5-434a-9d9f-2377269f9ffc",
   "metadata": {},
   "outputs": [
    {
     "name": "stdout",
     "output_type": "stream",
     "text": [
      "Saved results. Summary:\n",
      " Total columns: 10\n",
      "Total entropy (bits): 11.857310\n",
      "Total information (bits): 8.142690\n",
      "\n"
     ]
    },
    {
     "data": {
      "text/plain": [
       "<Figure size 800x250 with 0 Axes>"
      ]
     },
     "metadata": {},
     "output_type": "display_data"
    },
    {
     "data": {
      "text/plain": [
       "<Figure size 800x250 with 0 Axes>"
      ]
     },
     "metadata": {},
     "output_type": "display_data"
    }
   ],
   "source": [
    "from pathlib import Path\n",
    "\n",
    "# Make sure results folders exist\n",
    "Path(\"figs\").mkdir(exist_ok=True)\n",
    "Path(\"../docs/figs\").mkdir(parents=True, exist_ok=True)\n",
    "Path(\"../results\").mkdir(parents=True, exist_ok=True)\n",
    "\n",
    "# (a) Save plots\n",
    "plt.figure(figsize=(6,3))\n",
    "plt.bar(df[\"position\"], df[\"I\"])\n",
    "plt.xlabel(\"Position in motif\"); plt.ylabel(\"Information (bits)\")\n",
    "plt.title(\"NF-κB motif (real FASTA): per-column information content\")\n",
    "plt.savefig(\"figs/nfkb_info_bar_real.png\", dpi=150, bbox_inches=\"tight\")\n",
    "plt.savefig(\"../docs/figs/nfkb_info_bar_real.png\", dpi=150, bbox_inches=\"tight\")\n",
    "plt.close()\n",
    "\n",
    "ppm_df = df[[\"A\",\"C\",\"G\",\"T\"]].copy()\n",
    "ppm_df.index = df[\"position\"]\n",
    "\n",
    "plt.figure(figsize=(8,2.5))\n",
    "lm.Logo(ppm_df)\n",
    "plt.title(\"NF-κB motif (real FASTA): frequency logo\")\n",
    "plt.xlabel(\"Position\"); plt.ylabel(\"Frequency\")\n",
    "plt.savefig(\"figs/nfkb_logo_freq_real.png\", dpi=150, bbox_inches=\"tight\")\n",
    "plt.savefig(\"../docs/figs/nfkb_logo_freq_real.png\", dpi=150, bbox_inches=\"tight\")\n",
    "plt.close()\n",
    "\n",
    "info_ppm = ppm_df.multiply(df[\"I\"].values, axis=0)\n",
    "\n",
    "plt.figure(figsize=(8,2.5))\n",
    "lm.Logo(info_ppm)\n",
    "plt.title(\"NF-κB motif (real FASTA): information-weighted logo\")\n",
    "plt.xlabel(\"Position\"); plt.ylabel(\"Information-weighted height\")\n",
    "plt.savefig(\"figs/nfkb_logo_info_real.png\", dpi=150, bbox_inches=\"tight\")\n",
    "plt.savefig(\"../docs/figs/nfkb_logo_info_real.png\", dpi=150, bbox_inches=\"tight\")\n",
    "plt.close()\n",
    "\n",
    "# (b) Save per-position table and summary\n",
    "df.to_csv(\"../results/motif_metrics_real.csv\", index=False)\n",
    "counts_df.to_csv(\"../results/counts_real.csv\")\n",
    "ppm_df.to_csv(\"../results/ppm_real.csv\")\n",
    "\n",
    "total_entropy = float(df[\"H\"].sum())\n",
    "total_information = float(df[\"I\"].sum())\n",
    "summary = (\n",
    "    f\"Total columns: {len(df)}\\n\"\n",
    "    f\"Total entropy (bits): {total_entropy:.6f}\\n\"\n",
    "    f\"Total information (bits): {total_information:.6f}\\n\"\n",
    ")\n",
    "(Path(\"../results/summary_real.txt\")).write_text(summary, encoding=\"utf-8\")\n",
    "\n",
    "print(\"Saved results. Summary:\\n\", summary)\n"
   ]
  },
  {
   "cell_type": "code",
   "execution_count": null,
   "id": "5523cca7-e699-4c36-ac8b-f35125cd007e",
   "metadata": {},
   "outputs": [],
   "source": []
  }
 ],
 "metadata": {
  "kernelspec": {
   "display_name": "Python (motif-entropy)",
   "language": "python",
   "name": "motif-entropy"
  },
  "language_info": {
   "codemirror_mode": {
    "name": "ipython",
    "version": 3
   },
   "file_extension": ".py",
   "mimetype": "text/x-python",
   "name": "python",
   "nbconvert_exporter": "python",
   "pygments_lexer": "ipython3",
   "version": "3.11.13"
  }
 },
 "nbformat": 4,
 "nbformat_minor": 5
}
