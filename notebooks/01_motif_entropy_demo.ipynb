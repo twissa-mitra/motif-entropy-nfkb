{
 "cells": [
  {
   "cell_type": "code",
   "execution_count": 1,
   "id": "ab0c8830-457a-4c67-a8dc-c8ce80cf30d2",
   "metadata": {},
   "outputs": [
    {
     "name": "stdout",
     "output_type": "stream",
     "text": [
      "ROOT: C:\\Users\\14024\\Documents\\bio-projects\\motif-entropy-nfkb\n",
      "DATA: C:\\Users\\14024\\Documents\\bio-projects\\motif-entropy-nfkb\\data\n"
     ]
    }
   ],
   "source": [
    "from pathlib import Path\n",
    "import math\n",
    "from collections import Counter\n",
    "import pandas as pd\n",
    "import numpy as np\n",
    "import matplotlib.pyplot as plt\n",
    "\n",
    "# Project paths\n",
    "ROOT = Path.cwd().parents[0]   # notebooks → repo root\n",
    "DATA = ROOT / \"data\"\n",
    "SRC = ROOT / \"src\"\n",
    "\n",
    "print(\"ROOT:\", ROOT)\n",
    "print(\"DATA:\", DATA)\n"
   ]
  },
  {
   "cell_type": "code",
   "execution_count": 2,
   "id": "7caebfc8-31b0-4ec5-a620-9120f558532f",
   "metadata": {},
   "outputs": [
    {
     "name": "stdout",
     "output_type": "stream",
     "text": [
      "Loaded 12 sequences\n"
     ]
    },
    {
     "data": {
      "text/plain": [
       "['GGGAACTTCC', 'GGGGATTTCC', 'GGGAACCTCC']"
      ]
     },
     "execution_count": 2,
     "metadata": {},
     "output_type": "execute_result"
    }
   ],
   "source": [
    "def read_fasta(filepath):\n",
    "    sequences = []\n",
    "    with open(filepath) as f:\n",
    "        seq = \"\"\n",
    "        for line in f:\n",
    "            line = line.strip()\n",
    "            if not line:\n",
    "                continue\n",
    "            if line.startswith(\">\"):\n",
    "                if seq:\n",
    "                    sequences.append(seq)\n",
    "                    seq = \"\"\n",
    "            else:\n",
    "                seq += line\n",
    "        if seq:\n",
    "            sequences.append(seq)\n",
    "    return sequences\n",
    "\n",
    "fasta_path = DATA / \"nfkb_example.fasta\"\n",
    "seqs = read_fasta(fasta_path)\n",
    "print(f\"Loaded {len(seqs)} sequences\")\n",
    "seqs[:3]  # preview first 3 sequences\n"
   ]
  },
  {
   "cell_type": "code",
   "execution_count": null,
   "id": "2f8c44dc-06bb-4433-9d48-8e717cbcc199",
   "metadata": {},
   "outputs": [],
   "source": []
  },
  {
   "cell_type": "code",
   "execution_count": null,
   "id": "9e9cfcbd-a13b-42ff-8399-4d9bf008c853",
   "metadata": {},
   "outputs": [],
   "source": [
    "import pandas as pd\n",
    "from collections import Counter\n",
    "import math\n",
    "\n",
    "L = len(seqs[0])\n",
    "alphabet = [\"A\",\"C\",\"G\",\"T\"]\n",
    "\n",
    "def column_entropy(col):\n",
    "    counts = Counter(col)\n",
    "    total = len(col)\n",
    "    ent = 0.0\n",
    "    for c in counts.values():\n",
    "        p = c/total\n",
    "        ent -= p*math.log2(p)\n",
    "    return ent\n",
    "\n",
    "rows = []\n",
    "for i in range(L):\n",
    "    col = [s[i] for s in seqs]\n",
    "    counts = Counter(col)\n",
    "    freqs = {b: counts.get(b,0)/len(seqs) for b in alphabet}\n",
    "    rows.append({\"position\": i+1, \"H\": column_entropy(col), **freqs})\n",
    "\n",
    "df = pd.DataFrame(rows)\n",
    "df\n"
   ]
  },
  {
   "cell_type": "code",
   "execution_count": null,
   "id": "3d14047c-43c6-4547-adfe-28f62b367c2e",
   "metadata": {},
   "outputs": [],
   "source": [
    "import matplotlib.pyplot as plt\n",
    "\n",
    "plt.figure(figsize=(6,3))\n",
    "plt.bar(df[\"position\"], df[\"H\"])\n",
    "plt.xlabel(\"Position\")\n",
    "plt.ylabel(\"Entropy (bits)\")\n",
    "plt.title(\"NF-κB motif per-column entropy\")\n",
    "plt.show()\n"
   ]
  }
 ],
 "metadata": {
  "kernelspec": {
   "display_name": "Python (motif-entropy)",
   "language": "python",
   "name": "motif-entropy"
  },
  "language_info": {
   "codemirror_mode": {
    "name": "ipython",
    "version": 3
   },
   "file_extension": ".py",
   "mimetype": "text/x-python",
   "name": "python",
   "nbconvert_exporter": "python",
   "pygments_lexer": "ipython3",
   "version": "3.11.13"
  }
 },
 "nbformat": 4,
 "nbformat_minor": 5
}
